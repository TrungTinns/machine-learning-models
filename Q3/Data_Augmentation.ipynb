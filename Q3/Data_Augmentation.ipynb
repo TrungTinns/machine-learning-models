{
  "nbformat": 4,
  "nbformat_minor": 0,
  "metadata": {
    "colab": {
      "provenance": []
    },
    "kernelspec": {
      "name": "python3",
      "display_name": "Python 3"
    },
    "language_info": {
      "name": "python"
    }
  },
  "cells": [
    {
      "cell_type": "code",
      "execution_count": null,
      "metadata": {
        "colab": {
          "base_uri": "https://localhost:8080/"
        },
        "id": "brv6FIDtSs-7",
        "outputId": "d3c83b71-cf7e-49d2-bff5-2b36c1d7147a"
      },
      "outputs": [
        {
          "output_type": "stream",
          "name": "stdout",
          "text": [
            "Requirement already satisfied: Augmentor in /usr/local/lib/python3.10/dist-packages (0.2.12)\n",
            "Requirement already satisfied: Pillow>=5.2.0 in /usr/local/lib/python3.10/dist-packages (from Augmentor) (9.4.0)\n",
            "Requirement already satisfied: tqdm>=4.9.0 in /usr/local/lib/python3.10/dist-packages (from Augmentor) (4.66.1)\n",
            "Requirement already satisfied: numpy>=1.11.0 in /usr/local/lib/python3.10/dist-packages (from Augmentor) (1.23.5)\n"
          ]
        }
      ],
      "source": [
        "!pip install Augmentor\n",
        "#provides a wide range of image augmentation techniques that can be used to improve the performance of machine learning models."
      ]
    },
    {
      "cell_type": "code",
      "source": [
        "#module provides utility functions for preprocessing images before feeding them to a Keras model\n",
        "from keras.preprocessing import image"
      ],
      "metadata": {
        "id": "BmOsZE5QVEkA"
      },
      "execution_count": null,
      "outputs": []
    },
    {
      "cell_type": "code",
      "source": [
        "from google.colab import drive\n",
        "drive.mount('/content/drive', force_remount=True)"
      ],
      "metadata": {
        "id": "afTD_2zWU5ju",
        "colab": {
          "base_uri": "https://localhost:8080/"
        },
        "outputId": "4765b975-503a-4400-a5b6-0ce6e69b33b7"
      },
      "execution_count": null,
      "outputs": [
        {
          "output_type": "stream",
          "name": "stdout",
          "text": [
            "Mounted at /content/drive\n"
          ]
        }
      ]
    },
    {
      "cell_type": "code",
      "source": [
        "## Create an Augmentor pipeline\n",
        "import Augmentor\n",
        "p = Augmentor.Pipeline('/content/drive/MyDrive/imgs')"
      ],
      "metadata": {
        "colab": {
          "base_uri": "https://localhost:8080/"
        },
        "id": "hbj-8cdiUTg0",
        "outputId": "e07ac2ec-85f2-412e-ee87-b51e4799c328"
      },
      "execution_count": null,
      "outputs": [
        {
          "output_type": "stream",
          "name": "stdout",
          "text": [
            "Initialised with 4 image(s) found.\n",
            "Output directory set to /content/drive/MyDrive/imgs/output."
          ]
        }
      ]
    },
    {
      "cell_type": "code",
      "source": [
        "# will randomly rotate the image with a probability of 30%. The image will be rotated by an angle between -10 and 10 degrees.\n",
        "p.rotate(probability=0.3, max_left_rotation=10, max_right_rotation=10)"
      ],
      "metadata": {
        "id": "Z6FfLjC6M3E_"
      },
      "execution_count": null,
      "outputs": []
    },
    {
      "cell_type": "code",
      "source": [
        "# Rotates the image 90 degrees with a probability of 30%.\n",
        "p.rotate90(probability=0.3)"
      ],
      "metadata": {
        "id": "d6uvmpanM7Xo"
      },
      "execution_count": null,
      "outputs": []
    },
    {
      "cell_type": "code",
      "source": [
        "# Rotates the image 270 degrees with a probability of 30%.\n",
        "p.rotate270(probability=0.3)"
      ],
      "metadata": {
        "id": "da2kqx3nM_D1"
      },
      "execution_count": null,
      "outputs": []
    },
    {
      "cell_type": "code",
      "source": [
        "# Flips the image left-right with a probability of 30%.\n",
        "p.flip_left_right(probability=0.3)"
      ],
      "metadata": {
        "id": "47Fy8bSmNnmM"
      },
      "execution_count": null,
      "outputs": []
    },
    {
      "cell_type": "code",
      "source": [
        "# Flips the image top-bottom with a probability of 30%.\n",
        "p.flip_top_bottom(probability=0.3)"
      ],
      "metadata": {
        "id": "oJJAxmQYN7ni"
      },
      "execution_count": null,
      "outputs": []
    },
    {
      "cell_type": "code",
      "source": [
        "# Randomly crops the image to a rectangular region with an area of at most 50% of the original image area with a probability of 10%.\n",
        "p.crop_random(probability=.1, percentage_area=0.5)"
      ],
      "metadata": {
        "id": "Nsq3AvxnN-BS"
      },
      "execution_count": null,
      "outputs": []
    },
    {
      "cell_type": "code",
      "source": [
        "# Resizes the image to a width of 100 pixels and a height of 100 pixels with a probability of 10%.\n",
        "p.resize(probability=0.1, width=100, height=100)"
      ],
      "metadata": {
        "id": "j6AjQkhTN_8y"
      },
      "execution_count": null,
      "outputs": []
    },
    {
      "cell_type": "code",
      "source": [
        "# Randomly adjusts the brightness of the image by a factor between 0.4 and 0.9 with a probability of 50%.\n",
        "p.random_brightness(probability = 0.5, min_factor=0.4, max_factor=0.9)"
      ],
      "metadata": {
        "id": "7FFEL5j5OCNu"
      },
      "execution_count": null,
      "outputs": []
    },
    {
      "cell_type": "code",
      "source": [
        "# Randomly adjusts the color saturation of the image by a factor between 0.4 and 0.9 with a probability of 50%.\n",
        "p.random_color(probability=0.5, min_factor=0.4, max_factor=0.9)"
      ],
      "metadata": {
        "id": "FvOFGscGOEPo"
      },
      "execution_count": null,
      "outputs": []
    },
    {
      "cell_type": "code",
      "source": [
        "# Randomly adjusts the contrast of the image by a factor between 0.9 and 1.4 with a probability of 50%.\n",
        "p.random_contrast(probability=0.5, min_factor=0.9, max_factor=1.4)"
      ],
      "metadata": {
        "id": "9gEeMl_eOGLM"
      },
      "execution_count": null,
      "outputs": []
    },
    {
      "cell_type": "code",
      "source": [
        "# Randomly distorts the image by applying a grid of control points and displacing them by a random amount with a probability of 50%. The grid width and height are set to 7 and 8, respectively, and the magnitude of the distortion is set to 9.\n",
        "p.random_distortion(probability=0.5, grid_width=7, grid_height=8, magnitude=9)"
      ],
      "metadata": {
        "id": "tlv3KZ18OILg"
      },
      "execution_count": null,
      "outputs": []
    },
    {
      "cell_type": "code",
      "source": [
        "# Randomly erases a rectangular region from the image with an area of at most 20% of the original image area with a probability of 50%.\n",
        "p.random_erasing(probability=0.5, rectangle_area=0.2)"
      ],
      "metadata": {
        "id": "1RqFd1RPOKTn"
      },
      "execution_count": null,
      "outputs": []
    },
    {
      "cell_type": "code",
      "source": [
        "# Randomly zooms the image by a factor between 1.1 and 1.5 with a probability of 70%.\n",
        "p.zoom(probability=0.7, min_factor=1.1, max_factor=1.5)"
      ],
      "metadata": {
        "id": "65hpdKiROMoo"
      },
      "execution_count": null,
      "outputs": []
    },
    {
      "cell_type": "code",
      "source": [
        "# Change the samples size according to requirements\n",
        "p.sample(100)"
      ],
      "metadata": {
        "id": "0cC7-kYoOQFT",
        "outputId": "20aa6470-c357-4fc6-d31e-e9e9e9921f54",
        "colab": {
          "base_uri": "https://localhost:8080/"
        }
      },
      "execution_count": null,
      "outputs": [
        {
          "output_type": "stream",
          "name": "stderr",
          "text": [
            "Processing <PIL.Image.Image image mode=RGB size=100x100 at 0x7BDDE42F8C40>: 100%|██████████| 100/100 [00:23<00:00,  4.24 Samples/s]\n"
          ]
        }
      ]
    }
  ]
}